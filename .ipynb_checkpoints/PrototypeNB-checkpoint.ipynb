{
 "metadata": {
  "name": "",
  "signature": "sha256:6ab0f2a6fd58bcaa877f994ab19a64d10216e30a6a67ab2b5a5b1d4d5d6096d4"
 },
 "nbformat": 3,
 "nbformat_minor": 0,
 "worksheets": [
  {
   "cells": [
    {
     "cell_type": "code",
     "collapsed": false,
     "input": [
      "import numpy as np"
     ],
     "language": "python",
     "metadata": {},
     "outputs": [],
     "prompt_number": 1
    },
    {
     "cell_type": "markdown",
     "metadata": {},
     "source": [
      "# Part 1 : Label estimator"
     ]
    },
    {
     "cell_type": "markdown",
     "metadata": {},
     "source": [
      "## Loading committee matrix"
     ]
    },
    {
     "cell_type": "code",
     "collapsed": false,
     "input": [
      "mat = np.loadtxt('CommitteeMatrix/committee_matrix.txt')\n",
      "rows = mat.shape[0]\n",
      "cols = mat.shape[1]"
     ],
     "language": "python",
     "metadata": {},
     "outputs": [],
     "prompt_number": 11
    },
    {
     "cell_type": "markdown",
     "metadata": {},
     "source": [
      "## Creating a probability and error vector"
     ]
    },
    {
     "cell_type": "code",
     "collapsed": false,
     "input": [
      "P = np.zeros(shape=(rows,1))\n",
      "E = np.zeros(shape=(1,cols))"
     ],
     "language": "python",
     "metadata": {},
     "outputs": [],
     "prompt_number": 12
    },
    {
     "cell_type": "markdown",
     "metadata": {},
     "source": [
      "## Laplace Prior"
     ]
    },
    {
     "cell_type": "code",
     "collapsed": false,
     "input": [
      "k1,K1 = 1,1\n",
      "k2,K2 = 1,1"
     ],
     "language": "python",
     "metadata": {},
     "outputs": [],
     "prompt_number": 13
    },
    {
     "cell_type": "markdown",
     "metadata": {},
     "source": [
      "## Update loop"
     ]
    },
    {
     "cell_type": "code",
     "collapsed": false,
     "input": [
      "t = 0\n",
      "eps = 1\n",
      "I,J = rows,cols\n",
      "maxT = 1000\n",
      "threshold = 1e-6\n",
      "\n",
      "while t < maxT:\n",
      "    if eps <= threshold:\n",
      "        print \"Converged. Delta below threshold.\"\n",
      "        print eps\n",
      "        break  \n",
      "    print t\n",
      "    updates = np.zeros(shape=(1,cols))\n",
      "    \n",
      "    print \"Updating p(t)\"\n",
      "    for i in range(rows):\n",
      "        errSum = 0.0\n",
      "        for j in range(cols):\n",
      "            errSum += (1-E[0,j]*(t-1))*mat[i,j]\n",
      "        P[i,0] = (errSum + k1)/(J + K1)\n",
      "\n",
      "    print \"Updating e(t)\"\n",
      "    for j in range(cols):\n",
      "        passageSum = 0.0\n",
      "        for i in range(rows):\n",
      "            passageSum += P[i,0]*mat[i,j]\n",
      "        updates[0,j] = (passageSum + k2)/(I+K2)          \n",
      "        \n",
      "    print \"Calculating delta\"\n",
      "    eps = (updates - E).mean()\n",
      "    \n",
      "    print \"Updating error vector\"\n",
      "    E = updates   \n",
      "    \n",
      "    \n",
      "    t += 1"
     ],
     "language": "python",
     "metadata": {},
     "outputs": [
      {
       "output_type": "stream",
       "stream": "stdout",
       "text": [
        "0\n",
        "Updating p(t)\n",
        "Updating e(t)"
       ]
      },
      {
       "output_type": "stream",
       "stream": "stdout",
       "text": [
        "\n",
        "Calculating delta"
       ]
      },
      {
       "output_type": "stream",
       "stream": "stdout",
       "text": [
        "\n",
        "Updating error vector\n",
        "1\n",
        "Updating p(t)\n",
        "Updating e(t)"
       ]
      },
      {
       "output_type": "stream",
       "stream": "stdout",
       "text": [
        "\n",
        "Calculating delta"
       ]
      },
      {
       "output_type": "stream",
       "stream": "stdout",
       "text": [
        "\n",
        "Updating error vector\n",
        "Converged. Delta below threshold.\n",
        "0.0\n"
       ]
      }
     ],
     "prompt_number": 14
    },
    {
     "cell_type": "markdown",
     "metadata": {},
     "source": [
      "# Part 2 : Learning Algorithm"
     ]
    },
    {
     "cell_type": "markdown",
     "metadata": {},
     "source": [
      "## Loading the output of label estimator"
     ]
    },
    {
     "cell_type": "code",
     "collapsed": false,
     "input": [
      "p = np.loadtxt('Label_Estimator_output.txt')"
     ],
     "language": "python",
     "metadata": {},
     "outputs": [],
     "prompt_number": 11
    },
    {
     "cell_type": "code",
     "collapsed": false,
     "input": [
      "y = np.zeros_like(p)\n",
      "c = np.zeros_like(p)"
     ],
     "language": "python",
     "metadata": {},
     "outputs": [],
     "prompt_number": 15
    },
    {
     "cell_type": "code",
     "collapsed": false,
     "input": [
      "for i in range(len(p)):\n",
      "    y[i] = round(p[i])\n",
      "\n",
      "positive_ratio = sum(y)/len(y)\n",
      "\n",
      "count_p = count_n = 0\n",
      "\n",
      "for i in range(len(p)):\n",
      "    if y[i] == 1.0:\n",
      "        count_p += 1\n",
      "        c[i] = p[i]/positive_ratio\n",
      "    else:\n",
      "        count_n += 1\n",
      "        c[i]= p[i]/(1-positive_ratio)\n",
      "        \n",
      "print count_p,count_n"
     ],
     "language": "python",
     "metadata": {},
     "outputs": [
      {
       "output_type": "stream",
       "stream": "stdout",
       "text": [
        "6838 24397\n"
       ]
      }
     ],
     "prompt_number": 20
    },
    {
     "cell_type": "code",
     "collapsed": false,
     "input": [
      "f = open(\"weights.wgt\",\"w\")\n",
      "for i in c:\n",
      "    f.write(str(i)+'\\n')\n",
      "f.close()"
     ],
     "language": "python",
     "metadata": {},
     "outputs": [
      {
       "ename": "TypeError",
       "evalue": "writelines() argument must be a sequence of strings",
       "output_type": "pyerr",
       "traceback": [
        "\u001b[0;31m---------------------------------------------------------------------------\u001b[0m\n\u001b[0;31mTypeError\u001b[0m                                 Traceback (most recent call last)",
        "\u001b[0;32m<ipython-input-37-010e654929de>\u001b[0m in \u001b[0;36m<module>\u001b[0;34m()\u001b[0m\n\u001b[1;32m      1\u001b[0m \u001b[0mf\u001b[0m \u001b[0;34m=\u001b[0m \u001b[0mopen\u001b[0m\u001b[0;34m(\u001b[0m\u001b[0;34m\"weights.txt\"\u001b[0m\u001b[0;34m,\u001b[0m\u001b[0;34m\"w\"\u001b[0m\u001b[0;34m)\u001b[0m\u001b[0;34m\u001b[0m\u001b[0m\n\u001b[1;32m      2\u001b[0m \u001b[0;31m#for i in c:\u001b[0m\u001b[0;34m\u001b[0m\u001b[0;34m\u001b[0m\u001b[0m\n\u001b[0;32m----> 3\u001b[0;31m \u001b[0mf\u001b[0m\u001b[0;34m.\u001b[0m\u001b[0mwritelines\u001b[0m\u001b[0;34m(\u001b[0m\u001b[0mc\u001b[0m\u001b[0;34m)\u001b[0m\u001b[0;34m\u001b[0m\u001b[0m\n\u001b[0m\u001b[1;32m      4\u001b[0m \u001b[0mf\u001b[0m\u001b[0;34m.\u001b[0m\u001b[0mclose\u001b[0m\u001b[0;34m(\u001b[0m\u001b[0;34m)\u001b[0m\u001b[0;34m\u001b[0m\u001b[0m\n",
        "\u001b[0;31mTypeError\u001b[0m: writelines() argument must be a sequence of strings"
       ]
      }
     ],
     "prompt_number": 37
    },
    {
     "cell_type": "code",
     "collapsed": false,
     "input": [],
     "language": "python",
     "metadata": {},
     "outputs": []
    }
   ],
   "metadata": {}
  }
 ]
}