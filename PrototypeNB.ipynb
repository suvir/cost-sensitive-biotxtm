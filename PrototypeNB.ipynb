{
 "metadata": {
  "name": "",
  "signature": "sha256:cc807844328874a60c6a79b44875b34f463fc1567b42aa5ffa3b8a5e79045bc8"
 },
 "nbformat": 3,
 "nbformat_minor": 0,
 "worksheets": [
  {
   "cells": [
    {
     "cell_type": "code",
     "collapsed": false,
     "input": [
      "import numpy as np"
     ],
     "language": "python",
     "metadata": {},
     "outputs": [],
     "prompt_number": 1
    },
    {
     "cell_type": "markdown",
     "metadata": {},
     "source": [
      "## Loading committee matrix"
     ]
    },
    {
     "cell_type": "code",
     "collapsed": false,
     "input": [
      "mat = np.loadtxt('CommitteeMatrix//committee_matrix.txt')\n",
      "rows = mat.shape[0]\n",
      "cols = mat.shape[1]"
     ],
     "language": "python",
     "metadata": {},
     "outputs": [],
     "prompt_number": 2
    },
    {
     "cell_type": "markdown",
     "metadata": {},
     "source": [
      "## Creating a probability and error vector"
     ]
    },
    {
     "cell_type": "code",
     "collapsed": false,
     "input": [
      "P = np.zeros(shape=(rows,1))\n",
      "E = np.zeros(shape=(1,cols))"
     ],
     "language": "python",
     "metadata": {},
     "outputs": [],
     "prompt_number": 3
    },
    {
     "cell_type": "markdown",
     "metadata": {},
     "source": [
      "## Laplace Prior"
     ]
    },
    {
     "cell_type": "code",
     "collapsed": false,
     "input": [
      "k1,K1 = 1,1\n",
      "k2,K2 = 1,1"
     ],
     "language": "python",
     "metadata": {},
     "outputs": [],
     "prompt_number": 4
    },
    {
     "cell_type": "markdown",
     "metadata": {},
     "source": [
      "## Update loop"
     ]
    },
    {
     "cell_type": "code",
     "collapsed": false,
     "input": [
      "t = 0\n",
      "eps = 1\n",
      "I,J = rows,cols\n",
      "maxT = 1000\n",
      "threshold = 1e-6\n",
      "\n",
      "while t < maxT:\n",
      "    if eps <= threshold:\n",
      "        print \"Converged. Delta below threshold.\"\n",
      "        print eps\n",
      "        break  \n",
      "    print t\n",
      "    updates = np.zeros(shape=(1,cols))\n",
      "    \n",
      "    print \"Updating p(t)\"\n",
      "    for i in range(rows):\n",
      "        errSum = 0.0\n",
      "        for j in range(cols):\n",
      "            errSum += (1-E[0,j]*(t-1))*mat[i,j]\n",
      "        P[i,0] = (errSum + k1)/(J + K1)\n",
      "\n",
      "    print \"Updating e(t)\"\n",
      "    for j in range(cols):\n",
      "        passageSum = 0.0\n",
      "        for i in range(rows):\n",
      "            passageSum += P[i,0]*mat[i,j]\n",
      "        updates[0,j] = (passageSum + k2)/(I+K2)          \n",
      "        \n",
      "    print \"Calculating delta\"\n",
      "    eps = (updates - E).mean()\n",
      "    \n",
      "    print \"Updating error vector\"\n",
      "    E = updates   \n",
      "    \n",
      "    \n",
      "    t += 1"
     ],
     "language": "python",
     "metadata": {},
     "outputs": [
      {
       "output_type": "stream",
       "stream": "stdout",
       "text": [
        "0\n",
        "Updating p(t)\n",
        "Updating e(t)"
       ]
      },
      {
       "output_type": "stream",
       "stream": "stdout",
       "text": [
        "\n",
        "Calculating delta"
       ]
      },
      {
       "output_type": "stream",
       "stream": "stdout",
       "text": [
        "\n",
        "Updating error vector\n",
        "1\n",
        "Updating p(t)\n",
        "Updating e(t)"
       ]
      },
      {
       "output_type": "stream",
       "stream": "stdout",
       "text": [
        "\n",
        "Calculating delta"
       ]
      },
      {
       "output_type": "stream",
       "stream": "stdout",
       "text": [
        "\n",
        "Updating error vector\n",
        "Converged. Delta below threshold.\n",
        "0.0\n"
       ]
      }
     ],
     "prompt_number": 5
    },
    {
     "cell_type": "code",
     "collapsed": false,
     "input": [],
     "language": "python",
     "metadata": {},
     "outputs": []
    }
   ],
   "metadata": {}
  }
 ]
}